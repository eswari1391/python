{
 "cells": [
  {
   "cell_type": "code",
   "execution_count": 1,
   "id": "bb2548c2-33c8-4d66-829f-75051e4aac01",
   "metadata": {},
   "outputs": [
    {
     "name": "stdout",
     "output_type": "stream",
     "text": [
      "WELCOME TO ASSIGNMENT\n"
     ]
    }
   ],
   "source": [
    "print(\"WELCOME TO ASSIGNMENT\")"
   ]
  },
  {
   "cell_type": "code",
   "execution_count": 3,
   "id": "9ece6275-59c6-43ed-9144-fbbc6ef6ec30",
   "metadata": {},
   "outputs": [
    {
     "name": "stdin",
     "output_type": "stream",
     "text": [
      "Enter the num1: 50\n",
      "Enter the num2: 30\n"
     ]
    },
    {
     "name": "stdout",
     "output_type": "stream",
     "text": [
      "80\n"
     ]
    }
   ],
   "source": [
    "num1=int(input(\"Enter the num1:\"))\n",
    "num2=int(input(\"Enter the num2:\"))\n",
    "add=num1+num2\n",
    "print(add)\n"
   ]
  },
  {
   "cell_type": "code",
   "execution_count": 13,
   "id": "6c57f2a1-320d-4ff0-8fec-fc2a8bafcdea",
   "metadata": {},
   "outputs": [
    {
     "name": "stdout",
     "output_type": "stream",
     "text": [
      "BODY MASS INDEX\n"
     ]
    },
    {
     "name": "stdin",
     "output_type": "stream",
     "text": [
      "Enter the Bmi Index: 41\n"
     ]
    },
    {
     "name": "stdout",
     "output_type": "stream",
     "text": [
      "OBESITY CLASS3\n"
     ]
    }
   ],
   "source": [
    "print(\"BODY MASS INDEX\")\n",
    "Bmi=int(input(\"Enter the Bmi Index:\"))\n",
    "if(Bmi<18.5):\n",
    "    print(\"UNDER WEIGHT\")\n",
    "elif(Bmi<24.9):\n",
    "    print(\"NORMAL WEIGHT\")\n",
    "elif(Bmi<29.9):\n",
    "    print(\"OVER WEIGHT\")\n",
    "elif(Bmi<34.9):\n",
    "    print(\"OBESITY CLASS1\")\n",
    "elif(Bmi<39.9):\n",
    "    print(\"OBESITY CLASS2\")\n",
    "else:\n",
    "    print(\"OBESITY CLASS3\")\n"
   ]
  },
  {
   "cell_type": "code",
   "execution_count": null,
   "id": "87adb971-5e9a-4022-a69f-2fb04ed50ee5",
   "metadata": {},
   "outputs": [],
   "source": []
  }
 ],
 "metadata": {
  "kernelspec": {
   "display_name": "Python 3 (ipykernel)",
   "language": "python",
   "name": "python3"
  },
  "language_info": {
   "codemirror_mode": {
    "name": "ipython",
    "version": 3
   },
   "file_extension": ".py",
   "mimetype": "text/x-python",
   "name": "python",
   "nbconvert_exporter": "python",
   "pygments_lexer": "ipython3",
   "version": "3.12.4"
  }
 },
 "nbformat": 4,
 "nbformat_minor": 5
}
